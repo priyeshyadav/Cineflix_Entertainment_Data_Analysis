{
 "cells": [
  {
   "cell_type": "markdown",
   "id": "d528b592",
   "metadata": {},
   "source": [
    "# MASTERING PYTHON - 100 Questions"
   ]
  },
  {
   "cell_type": "markdown",
   "id": "84c55083",
   "metadata": {},
   "source": [
    "### 1. Write a program that prompts the user for two numbers and displays the addition, subtraction, multiplication, and division between them."
   ]
  },
  {
   "cell_type": "code",
   "execution_count": 14,
   "id": "b4099576",
   "metadata": {},
   "outputs": [
    {
     "name": "stdout",
     "output_type": "stream",
     "text": [
      "Enter Number 1: \n",
      "100\n",
      "Enter Number 2: \n",
      "0\n",
      "Addition : 100.00\n",
      "Subtraction : 100.00\n",
      "Multiplication : 0.00\n"
     ]
    },
    {
     "ename": "ZeroDivisionError",
     "evalue": "float division by zero",
     "output_type": "error",
     "traceback": [
      "\u001b[0;31m---------------------------------------------------------------------------\u001b[0m",
      "\u001b[0;31mZeroDivisionError\u001b[0m                         Traceback (most recent call last)",
      "Cell \u001b[0;32mIn[14], line 6\u001b[0m\n\u001b[1;32m      4\u001b[0m \u001b[38;5;28mprint\u001b[39m(\u001b[38;5;124mf\u001b[39m\u001b[38;5;124m'\u001b[39m\u001b[38;5;124mSubtraction : \u001b[39m\u001b[38;5;132;01m{\u001b[39;00mx\u001b[38;5;250m \u001b[39m\u001b[38;5;241m-\u001b[39m\u001b[38;5;250m \u001b[39my\u001b[38;5;250m \u001b[39m\u001b[38;5;132;01m:\u001b[39;00m\u001b[38;5;124m.2f\u001b[39m\u001b[38;5;132;01m}\u001b[39;00m\u001b[38;5;124m'\u001b[39m)\n\u001b[1;32m      5\u001b[0m \u001b[38;5;28mprint\u001b[39m(\u001b[38;5;124mf\u001b[39m\u001b[38;5;124m'\u001b[39m\u001b[38;5;124mMultiplication : \u001b[39m\u001b[38;5;132;01m{\u001b[39;00mx\u001b[38;5;250m \u001b[39m\u001b[38;5;241m*\u001b[39m\u001b[38;5;250m \u001b[39my\u001b[38;5;250m \u001b[39m\u001b[38;5;132;01m:\u001b[39;00m\u001b[38;5;124m.2f\u001b[39m\u001b[38;5;132;01m}\u001b[39;00m\u001b[38;5;124m'\u001b[39m)\n\u001b[0;32m----> 6\u001b[0m \u001b[38;5;28mprint\u001b[39m(\u001b[38;5;124mf\u001b[39m\u001b[38;5;124m'\u001b[39m\u001b[38;5;124mDivision : \u001b[39m\u001b[38;5;132;01m{\u001b[39;00mx\u001b[38;5;250m \u001b[39m\u001b[38;5;241m/\u001b[39m\u001b[38;5;250m \u001b[39my\u001b[38;5;250m \u001b[39m\u001b[38;5;132;01m:\u001b[39;00m\u001b[38;5;124m.2f\u001b[39m\u001b[38;5;132;01m}\u001b[39;00m\u001b[38;5;124m'\u001b[39m)\n",
      "\u001b[0;31mZeroDivisionError\u001b[0m: float division by zero"
     ]
    }
   ],
   "source": [
    "x = float(input(\"Enter Number 1: \\n\"))\n",
    "y = float(input(\"Enter Number 2: \\n\"))\n",
    "print(f'Addition : {x + y :.2f}')\n",
    "print(f'Subtraction : {x - y :.2f}')\n",
    "print(f'Multiplication : {x * y :.2f}')\n",
    "print(f'Division : {x / y :.2f}')"
   ]
  },
  {
   "cell_type": "markdown",
   "id": "d25b0b9b",
   "metadata": {},
   "source": [
    "#### 1a. Handle Division by 0 Condition in above code."
   ]
  },
  {
   "cell_type": "code",
   "execution_count": 15,
   "id": "2e4cdb94",
   "metadata": {},
   "outputs": [
    {
     "name": "stdout",
     "output_type": "stream",
     "text": [
      "Enter Number 1: \n",
      "wer\n"
     ]
    },
    {
     "ename": "ValueError",
     "evalue": "could not convert string to float: 'wer'",
     "output_type": "error",
     "traceback": [
      "\u001b[0;31m---------------------------------------------------------------------------\u001b[0m",
      "\u001b[0;31mValueError\u001b[0m                                Traceback (most recent call last)",
      "Cell \u001b[0;32mIn[15], line 1\u001b[0m\n\u001b[0;32m----> 1\u001b[0m x \u001b[38;5;241m=\u001b[39m \u001b[38;5;28mfloat\u001b[39m(\u001b[38;5;28minput\u001b[39m(\u001b[38;5;124m\"\u001b[39m\u001b[38;5;124mEnter Number 1: \u001b[39m\u001b[38;5;130;01m\\n\u001b[39;00m\u001b[38;5;124m\"\u001b[39m))\n\u001b[1;32m      2\u001b[0m y \u001b[38;5;241m=\u001b[39m \u001b[38;5;28mfloat\u001b[39m(\u001b[38;5;28minput\u001b[39m(\u001b[38;5;124m\"\u001b[39m\u001b[38;5;124mEnter Number 2: \u001b[39m\u001b[38;5;130;01m\\n\u001b[39;00m\u001b[38;5;124m\"\u001b[39m))\n\u001b[1;32m      3\u001b[0m \u001b[38;5;28mprint\u001b[39m(\u001b[38;5;124mf\u001b[39m\u001b[38;5;124m'\u001b[39m\u001b[38;5;124mAddition : \u001b[39m\u001b[38;5;132;01m{\u001b[39;00mx\u001b[38;5;250m \u001b[39m\u001b[38;5;241m+\u001b[39m\u001b[38;5;250m \u001b[39my\u001b[38;5;250m \u001b[39m\u001b[38;5;132;01m:\u001b[39;00m\u001b[38;5;124m.2f\u001b[39m\u001b[38;5;132;01m}\u001b[39;00m\u001b[38;5;124m'\u001b[39m)\n",
      "\u001b[0;31mValueError\u001b[0m: could not convert string to float: 'wer'"
     ]
    }
   ],
   "source": [
    "x = float(input(\"Enter Number 1: \\n\"))\n",
    "y = float(input(\"Enter Number 2: \\n\"))\n",
    "print(f'Addition : {x + y :.2f}')\n",
    "print(f'Subtraction : {x - y :.2f}')\n",
    "print(f'Multiplication : {x * y :.2f}')\n",
    "try:\n",
    "    print(f'Division : {x / y :.2f}')\n",
    "except ZeroDivisionError:\n",
    "    print(\"Division by Zero Exception\")"
   ]
  },
  {
   "cell_type": "markdown",
   "id": "7e113d4f",
   "metadata": {},
   "source": [
    "#### 1c. Handle Error thrown due to non int/float input."
   ]
  },
  {
   "cell_type": "code",
   "execution_count": 16,
   "id": "6bb4f6ad",
   "metadata": {},
   "outputs": [
    {
     "name": "stdout",
     "output_type": "stream",
     "text": [
      "Enter Number 1: \n",
      "qwe\n",
      "Enter int/float only.\n",
      "Enter Number 1: \n",
      "100\n",
      "Enter Number 2: \n",
      "0\n",
      "Addition : 100.00\n",
      "Subtraction : 100.00\n",
      "Multiplication : 0.00\n",
      "Division by Zero Exception\n"
     ]
    }
   ],
   "source": [
    "validinput = False\n",
    "while not validinput:\n",
    "    try:\n",
    "        x = float(input(\"Enter Number 1: \\n\"))\n",
    "        y = float(input(\"Enter Number 2: \\n\"))\n",
    "        validinput = True\n",
    "    except ValueError:\n",
    "        print(\"Enter int/float only.\")\n",
    "print(f'Addition : {x + y :.2f}')\n",
    "print(f'Subtraction : {x - y :.2f}')\n",
    "print(f'Multiplication : {x * y :.2f}')\n",
    "try:\n",
    "    print(f'Division : {x / y :.2f}')\n",
    "except ZeroDivisionError:\n",
    "    print(\"Division by Zero Exception\")"
   ]
  },
  {
   "cell_type": "markdown",
   "id": "2a47c315",
   "metadata": {},
   "source": [
    "#### 1d. Continue the Program unless User declines."
   ]
  },
  {
   "cell_type": "code",
   "execution_count": 4,
   "id": "f0e11ec0",
   "metadata": {},
   "outputs": [
    {
     "name": "stdout",
     "output_type": "stream",
     "text": [
      "Enter Number 1: \n",
      "12\n",
      "Enter Number 2: \n",
      "0\n",
      "Addition : 12.00\n",
      "Subtraction : 12.00\n",
      "Multiplication : 0.00\n",
      "Division by Zero Exception\n",
      "Do you want to continue ? Press n for No, Anything else for Yes: \n",
      "\n",
      "Enter Number 1: \n",
      "12\n",
      "Enter Number 2: \n",
      "20\n",
      "Addition : 32.00\n",
      "Subtraction : -8.00\n",
      "Multiplication : 240.00\n",
      "Division : 0.60\n",
      "Do you want to continue ? Press n for No, Anything else for Yes: \n",
      "\n",
      "Enter Number 1: \n",
      "0\n",
      "Enter Number 2: \n",
      "0\n",
      "Addition : 0.00\n",
      "Subtraction : 0.00\n",
      "Multiplication : 0.00\n",
      "Division by Zero Exception\n",
      "Do you want to continue ? Press n for No, Anything else for Yes: \n",
      "N\n",
      "Thanks !!\n"
     ]
    }
   ],
   "source": [
    "user_decision = True\n",
    "while user_decision:\n",
    "    validinput = False\n",
    "    while not validinput:\n",
    "        try:\n",
    "            x = float(input(\"Enter Number 1: \\n\"))\n",
    "            y = float(input(\"Enter Number 2: \\n\"))\n",
    "            validinput = True\n",
    "        except ValueError:\n",
    "            print(\"Enter int/float only.\")\n",
    "    print(f'Addition : {x + y :.2f}')\n",
    "    print(f'Subtraction : {x - y :.2f}')\n",
    "    print(f'Multiplication : {x * y :.2f}')\n",
    "    try:\n",
    "        print(f'Division : {x / y :.2f}')\n",
    "    except ZeroDivisionError:\n",
    "        print(\"Division by Zero Exception\")\n",
    "    decision = input(\"Do you want to continue ? Press n for No, Anything else for Yes: \\n\")\n",
    "    if decision.lower() == 'n':\n",
    "        print(\"Thanks !!\")\n",
    "        user_decision = False\n",
    "    "
   ]
  },
  {
   "cell_type": "markdown",
   "id": "3ae08f86",
   "metadata": {},
   "source": [
    "### 2. Write a program that calculates the arithmetic mean of two numbers. Implement all possible functionality from Question 1."
   ]
  },
  {
   "cell_type": "code",
   "execution_count": 7,
   "id": "e638d445",
   "metadata": {},
   "outputs": [
    {
     "name": "stdout",
     "output_type": "stream",
     "text": [
      "Enter Number 1: \n",
      "12\n",
      "Enter Number 2: \n",
      "13\n",
      "Airthmatic mean of 12.0 & 13.0 is 12.50\n",
      "Do you want to continue ? Press n for No, Anything else for Yes: \n",
      "n\n",
      "Thanks !!\n"
     ]
    }
   ],
   "source": [
    "user_decision = True\n",
    "while user_decision:\n",
    "    validinput = False\n",
    "    while not validinput:\n",
    "        try:\n",
    "            x = float(input(\"Enter Number 1: \\n\"))\n",
    "            y = float(input(\"Enter Number 2: \\n\"))\n",
    "            validinput = True\n",
    "        except ValueError:\n",
    "            print(\"Enter int/float only.\")\n",
    "    print(f'Airthmatic mean of {x} & {y} is {(x+y)/2 :.2f}')\n",
    "\n",
    "    decision = input(\"Do you want to continue ? Press n for No, Anything else for Yes: \\n\")\n",
    "    if decision.lower() == 'n':\n",
    "        print(\"Thanks !!\")\n",
    "        user_decision = False\n"
   ]
  },
  {
   "cell_type": "markdown",
   "id": "90939f8b",
   "metadata": {},
   "source": [
    "### 3. Enhance code from Question 2 , Take N input from user & calculate their Airthmatic Mean."
   ]
  },
  {
   "cell_type": "code",
   "execution_count": 5,
   "id": "baa9652f",
   "metadata": {},
   "outputs": [
    {
     "name": "stdout",
     "output_type": "stream",
     "text": [
      "Enter Number 1 :\n",
      "12\n",
      "Do you want to enter more numbers? Press 'n' for No, anything else for Yes: \n",
      "\n",
      "Enter Number 2 :\n",
      "34\n",
      "Do you want to enter more numbers? Press 'n' for No, anything else for Yes: \n",
      "\n",
      "Enter Number 3 :\n",
      "50\n",
      "Do you want to enter more numbers? Press 'n' for No, anything else for Yes: \n",
      "\n",
      "Enter Number 4 :\n",
      "-45\n",
      "Do you want to enter more numbers? Press 'n' for No, anything else for Yes: \n",
      "n\n",
      "Let's calculate the Arithmetic mean of 4 numbers.\n",
      "Arithmetic mean of 4 numbers is 12.75\n",
      "Do you want to continue? Press 'n' for No, anything else for Yes: \n",
      "\n",
      "Enter Number 1 :\n",
      "10\n",
      "Do you want to enter more numbers? Press 'n' for No, anything else for Yes: \n",
      "-10\n",
      "Enter Number 2 :\n",
      "-20\n",
      "Do you want to enter more numbers? Press 'n' for No, anything else for Yes: \n",
      "\n",
      "Enter Number 3 :\n",
      "10\n",
      "Do you want to enter more numbers? Press 'n' for No, anything else for Yes: \n",
      "\n",
      "Enter Number 4 :\n",
      "-20\n",
      "Do you want to enter more numbers? Press 'n' for No, anything else for Yes: \n",
      "n\n",
      "Let's calculate the Arithmetic mean of 4 numbers.\n",
      "Arithmetic mean of 4 numbers is -5.00\n",
      "Do you want to continue? Press 'n' for No, anything else for Yes: \n",
      "n\n",
      "Thanks!!\n"
     ]
    }
   ],
   "source": [
    "user_decision = True\n",
    "while user_decision:\n",
    "    more_input = True\n",
    "    user_inputs = []\n",
    "\n",
    "    while more_input:\n",
    "        valid_input = False \n",
    "        while not valid_input:\n",
    "            try:\n",
    "                user_input = float(input(f'Enter Number {len(user_inputs) + 1} :\\n'))\n",
    "                user_inputs.append(user_input)\n",
    "                valid_input = True\n",
    "            except ValueError:\n",
    "                print(\"Enter int/float only.\")\n",
    "        \n",
    "        decision_more_input = input(\"Do you want to enter more numbers? Press 'n' for No, anything else for Yes: \\n\")\n",
    "        if decision_more_input.lower() == 'n':\n",
    "            print(f\"Let's calculate the Arithmetic mean of {len(user_inputs)} numbers.\")\n",
    "            more_input = False\n",
    "\n",
    "    print(f'Arithmetic mean of {len(user_inputs)} numbers is {sum(user_inputs) / len(user_inputs):.2f}')\n",
    "            \n",
    "    decision = input(\"Do you want to continue? Press 'n' for No, anything else for Yes: \\n\")\n",
    "    if decision.lower() == 'n':\n",
    "        print(\"Thanks!!\")\n",
    "        user_decision = False\n"
   ]
  },
  {
   "cell_type": "markdown",
   "id": "fec376d0",
   "metadata": {},
   "source": [
    "#### 3a. Enhance above code, where user enter another number immediately rather than pressing Y & then Enter number. if user enters n, assume no further input are required now & then calculate Airthmatic Mean.\n",
    "\n",
    "##### Effectively getting rid of this line/functionality - Do you want to enter more numbers? Press 'n' for No, anything else for Yes: "
   ]
  },
  {
   "cell_type": "code",
   "execution_count": null,
   "id": "2a11b6a4",
   "metadata": {},
   "outputs": [],
   "source": []
  }
 ],
 "metadata": {
  "kernelspec": {
   "display_name": "Python 3 (ipykernel)",
   "language": "python",
   "name": "python3"
  },
  "language_info": {
   "codemirror_mode": {
    "name": "ipython",
    "version": 3
   },
   "file_extension": ".py",
   "mimetype": "text/x-python",
   "name": "python",
   "nbconvert_exporter": "python",
   "pygments_lexer": "ipython3",
   "version": "3.11.4"
  }
 },
 "nbformat": 4,
 "nbformat_minor": 5
}
